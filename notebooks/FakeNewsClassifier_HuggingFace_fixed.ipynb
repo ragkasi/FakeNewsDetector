{
 "cells": [
  {
   "cell_type": "markdown",
   "metadata": {},
   "source": [
    "#FakeNewsDetection:Baselinevs.BERT\n"
   ]
  },
  {
   "cell_type": "code",
   "execution_count": 1,
   "metadata": {},
   "outputs": [],
   "source": [
    "#(1)Installdependencies(runonceatthetopofthenotebook)\n",
    "!pipinstall-qtransformersdatasetsscikit-learntorchmatplotlibseaborn\n"
   ]
  },
  {
   "cell_type": "code",
   "execution_count": 2,
   "metadata": {},
   "outputs": [
    {
     "name": "stdout",
     "output_type": "stream",
     "text": [
      "Usingdevice:cpu\n"
     ]
    }
   ],
   "source": [
    "#(2)ImportsandDeviceSetup\n",
    "importos\n",
    "importpandasaspd\n",
    "importtorch\n",
    "fromdatasetsimportload_dataset\n",
    "fromsklearn.model_selectionimporttrain_test_split\n",
    "fromsklearn.feature_extraction.textimportTfidfVectorizer\n",
    "fromsklearn.linear_modelimportLogisticRegression\n",
    "fromsklearn.pipelineimportPipeline\n",
    "fromsklearn.metricsimport(\n",
    "accuracy_score,\n",
    "f1_score,\n",
    "classification_report,\n",
    "confusion_matrix,\n",
    "roc_curve,\n",
    "auc\n",
    ")\n",
    "importmatplotlib.pyplotasplt\n",
    "importseabornassns\n",
    "fromtorch.utils.dataimportDataLoader\n",
    "fromtransformersimportAutoTokenizer,AutoModelForSequenceClassification\n",
    "\n",
    "device=torch.device(\"cuda\"iftorch.cuda.is_available()else\"cpu\")\n",
    "print(\"Usingdevice:\",device)\n"
   ]
  },
  {
   "cell_type": "code",
   "execution_count": 3,
   "metadata": {},
   "outputs": [
    {
     "data": {
      "application/vnd.jupyter.widget-view+json": {
       "model_id": "4d58cf7fc6014fffa761569ffe0a9923",
       "version_major": 2,
       "version_minor": 0
      },
      "text/plain": [
       "Downloadingdata:0%||0.00/1.01M[00:00<?,?B/s]"
      ]
     },
     "metadata": {},
     "output_type": "display_data"
    },
    {
     "data": {
      "application/vnd.jupyter.widget-view+json": {
       "model_id": "2388c0d0487c4dd0821bc7628d3ca4c2",
       "version_major": 2,
       "version_minor": 0
      },
      "text/plain": [
       "Generatingtrainsplit:0%||0/10269[00:00<?,?examples/s]"
      ]
     },
     "metadata": {},
     "output_type": "display_data"
    },
    {
     "data": {
      "application/vnd.jupyter.widget-view+json": {
       "model_id": "2a171d7e84dc42b88bccd30a8a30d691",
       "version_major": 2,
       "version_minor": 0
      },
      "text/plain": [
       "Generatingtestsplit:0%||0/1283[00:00<?,?examples/s]"
      ]
     },
     "metadata": {},
     "output_type": "display_data"
    },
    {
     "data": {
      "application/vnd.jupyter.widget-view+json": {
       "model_id": "12e35705877e4d01a92aa217fceb2f9a",
       "version_major": 2,
       "version_minor": 0
      },
      "text/plain": [
       "Generatingvalidationsplit:0%||0/1284[00:00<?,?examples/s]"
      ]
     },
     "metadata": {},
     "output_type": "display_data"
    },
    {
     "name": "stdout",
     "output_type": "stream",
     "text": [
      "\u25b6\ufe0eTrainsize:8215Testsize:2054\n",
      "\u25b6\ufe0eLabelcountsintrain:{1:4869,0:3346}\n",
      "\u25b6\ufe0eLabelcountsintest:{1:1218,0:836}\n"
     ]
    }
   ],
   "source": [
    "#(3)Load&BinarizetheLIARDataset\n",
    "#We\u2019lluseonlythe\u201ctrain\u201dsplitandperforman80/20train/testsplitourselves.\n",
    "\n",
    "raw=load_dataset(\"liar\",cache_dir=\"/content/hf_cache\")\n",
    "df_all=pd.DataFrame(raw[\"train\"])\n",
    "\n",
    "#MaplabelIDs0,1,2\u2192fake(1);3,4,5\u2192real(0)\n",
    "defbinarize(label_id):\n",
    "returnint(label_id<=2)\n",
    "\n",
    "df_all[\"label_bin\"]=df_all[\"label\"].map(binarize)\n",
    "\n",
    "#80/20stratifiedsplitonlabel_bin\n",
    "X_train,X_test,y_train,y_test=train_test_split(\n",
    "df_all[\"statement\"],\n",
    "df_all[\"label_bin\"],\n",
    "test_size=0.20,\n",
    "random_state=42,\n",
    "stratify=df_all[\"label_bin\"]\n",
    ")\n",
    "\n",
    "print(f\"\u25b6\ufe0eTrainsize:{len(X_train)}Testsize:{len(X_test)}\")\n",
    "print(\"\u25b6\ufe0eLabelcountsintrain:\",y_train.value_counts().to_dict())\n",
    "print(\"\u25b6\ufe0eLabelcountsintest:\",y_test.value_counts().to_dict())\n"
   ]
  },
  {
   "cell_type": "code",
   "execution_count": 4,
   "metadata": {},
   "outputs": [
    {
     "name": "stdout",
     "output_type": "stream",
     "text": [
      "===Baseline(TF\u2011IDF+LR)===\n",
      "Accuracy:0.5312\n",
      "F1Score:0.5928\n",
      "\n",
      "ClassificationReport:\n",
      "precisionrecallf1-scoresupport\n",
      "\n",
      "00.430.470.45836\n",
      "10.610.580.591218\n",
      "\n",
      "accuracy0.532054\n",
      "macroavg0.520.520.522054\n",
      "weightedavg0.540.530.532054\n",
      "\n"
     ]
    },
    {
     "data": {
      "image/png": "[encoded data removed]",
      "text/plain": [
       "<Figuresize500x400with2Axes>"
      ]
     },
     "metadata": {},
     "output_type": "display_data"
    }
   ],
   "source": [
    "#(4)Baseline:TF\u2011IDF+LogisticRegression\n",
    "\n",
    "baseline_pipe=Pipeline([\n",
    "(\"tfidf\",TfidfVectorizer(\n",
    "stop_words=\"english\",\n",
    "max_features=5000,\n",
    "ngram_range=(1,2)\n",
    ")),\n",
    "(\"clf\",LogisticRegression(\n",
    "max_iter=1000,\n",
    "class_weight=\"balanced\"\n",
    "))\n",
    "])\n",
    "\n",
    "baseline_pipe.fit(X_train,y_train)\n",
    "y_pred_baseline=baseline_pipe.predict(X_test)\n",
    "\n",
    "acc_baseline=accuracy_score(y_test,y_pred_baseline)\n",
    "f1_baseline=f1_score(y_test,y_pred_baseline)\n",
    "probs_baseline=baseline_pipe.predict_proba(X_test)[:,1]\n",
    "\n",
    "print(\"===Baseline(TF\u2011IDF+LR)===\")\n",
    "print(f\"Accuracy:{acc_baseline:.4f}\")\n",
    "print(f\"F1Score:{f1_baseline:.4f}\\n\")\n",
    "print(\"ClassificationReport:\")\n",
    "print(classification_report(y_test,y_pred_baseline))\n",
    "\n",
    "#Baselineconfusionmatrix\n",
    "cm_base=confusion_matrix(y_test,y_pred_baseline)\n",
    "plt.figure(figsize=(5,4))\n",
    "sns.heatmap(\n",
    "cm_base,\n",
    "annot=True,\n",
    "fmt=\"d\",\n",
    "cmap=\"Blues\",\n",
    "xticklabels=[\"Real\",\"Fake\"],\n",
    "yticklabels=[\"Real\",\"Fake\"]\n",
    ")\n",
    "plt.title(\"ConfusionMatrix:Baseline\")\n",
    "plt.xlabel(\"Predicted\")\n",
    "plt.ylabel(\"Actual\")\n",
    "plt.show()\n"
   ]
  },
  {
   "cell_type": "code",
   "execution_count": 5,
   "metadata": {},
   "outputs": [
    {
     "data": {
      "application/vnd.jupyter.widget-view+json": {
       "model_id": "3b741441dfd742dab67288cb96bb39cf",
       "version_major": 2,
       "version_minor": 0
      },
      "text/plain": [
       "Map:0%||0/8215[00:00<?,?examples/s]"
      ]
     },
     "metadata": {},
     "output_type": "display_data"
    },
    {
     "data": {
      "application/vnd.jupyter.widget-view+json": {
       "model_id": "5f4e19c7cb614004a2b9220510e8928c",
       "version_major": 2,
       "version_minor": 0
      },
      "text/plain": [
       "Map:0%||0/2054[00:00<?,?examples/s]"
      ]
     },
     "metadata": {},
     "output_type": "display_data"
    },
    {
     "data": {
      "application/vnd.jupyter.widget-view+json": {
       "model_id": "919b27a90c324845b0cec283bcd4d27e",
       "version_major": 2,
       "version_minor": 0
      },
      "text/plain": [
       "Map:0%||0/8215[00:00<?,?examples/s]"
      ]
     },
     "metadata": {},
     "output_type": "display_data"
    },
    {
     "data": {
      "application/vnd.jupyter.widget-view+json": {
       "model_id": "9bb1cc4385a145e996c4983200f1c09e",
       "version_major": 2,
       "version_minor": 0
      },
      "text/plain": [
       "Map:0%||0/2054[00:00<?,?examples/s]"
      ]
     },
     "metadata": {},
     "output_type": "display_data"
    },
    {
     "name": "stdout",
     "output_type": "stream",
     "text": [
      "===BERT(fine\u2011tuned)===\n",
      "Accuracy:0.5779\n",
      "F1Score:0.6742\n",
      "\n",
      "ClassificationReport:\n",
      "precisionrecallf1-scoresupport\n",
      "\n",
      "00.480.340.40849\n",
      "10.620.740.671205\n",
      "\n",
      "accuracy0.582054\n",
      "macroavg0.550.540.542054\n",
      "weightedavg0.560.580.562054\n",
      "\n"
     ]
    },
    {
     "data": {
      "image/png": "[encoded data removed]",
      "text/plain": [
       "<Figuresize500x400with2Axes>"
      ]
     },
     "metadata": {},
     "output_type": "display_data"
    }
   ],
   "source": [
    "#(5)Load&EvaluateFine\u2011TunedBERT\n",
    "\n",
    "#5.1Loadtokenizer+modelfromyourlocalfolder\n",
    "model_dir=\"../models/bert-fake-news\"\n",
    "tokenizer=AutoTokenizer.from_pretrained(model_dir)\n",
    "model=AutoModelForSequenceClassification.from_pretrained(model_dir)\n",
    "model=model.to(device)\n",
    "model.eval()\n",
    "\n",
    "#5.2Tokenizetestset\n",
    "deftokenize_fn(batch):\n",
    "returntokenizer(\n",
    "batch[\"statement\"],\n",
    "padding=\"max_length\",\n",
    "truncation=True,\n",
    "max_length=128\n",
    ")\n",
    "\n",
    "#RecreatethedatasetsplitsforBERTevaluation\n",
    "splits=raw[\"train\"].train_test_split(test_size=0.20,seed=42)\n",
    "splits[\"train\"]=splits[\"train\"].map(lambdax:{\"label\":int(x[\"label\"]<=2)})\n",
    "splits[\"test\"]=splits[\"test\"].map(lambdax:{\"label\":int(x[\"label\"]<=2)})\n",
    "\n",
    "#Applytokenization\n",
    "tokenized=splits.map(tokenize_fn,batched=True)\n",
    "tokenized.set_format(\"torch\",columns=[\"input_ids\",\"attention_mask\",\"label\"])\n",
    "\n",
    "#5.3Runinferenceontestset\n",
    "test_loader=DataLoader(tokenized[\"test\"],batch_size=8)\n",
    "all_preds,all_probs,all_labels=[],[],[]\n",
    "\n",
    "withtorch.no_grad():\n",
    "forbatchintest_loader:\n",
    "ids=batch[\"input_ids\"].to(device)\n",
    "mask=batch[\"attention_mask\"].to(device)\n",
    "labels=batch[\"label\"].to(device)\n",
    "\n",
    "outputs=model(ids,attention_mask=mask)\n",
    "logits=outputs.logits\n",
    "probs=torch.softmax(logits,dim=-1)\n",
    "preds=torch.argmax(probs,dim=-1)\n",
    "\n",
    "all_preds.extend(preds.cpu().tolist())\n",
    "#takeprobabilityofclass\u201c1\u201d(fake)\n",
    "all_probs.extend(probs[:,1].cpu().tolist())\n",
    "all_labels.extend(labels.cpu().tolist())\n",
    "\n",
    "acc_bert=accuracy_score(all_labels,all_preds)\n",
    "f1_bert=f1_score(all_labels,all_preds)\n",
    "\n",
    "print(\"===BERT(fine\u2011tuned)===\")\n",
    "print(f\"Accuracy:{acc_bert:.4f}\")\n",
    "print(f\"F1Score:{f1_bert:.4f}\\n\")\n",
    "print(\"ClassificationReport:\")\n",
    "print(classification_report(all_labels,all_preds))\n",
    "\n",
    "#BERTconfusionmatrix\n",
    "cm_bert=confusion_matrix(all_labels,all_preds)\n",
    "plt.figure(figsize=(5,4))\n",
    "sns.heatmap(\n",
    "cm_bert,\n",
    "annot=True,\n",
    "fmt=\"d\",\n",
    "cmap=\"Greens\",\n",
    "xticklabels=[\"Real\",\"Fake\"],\n",
    "yticklabels=[\"Real\",\"Fake\"]\n",
    ")\n",
    "plt.title(\"ConfusionMatrix:BERT\")\n",
    "plt.xlabel(\"Predicted\")\n",
    "plt.ylabel(\"Actual\")\n",
    "plt.show()\n"
   ]
  },
  {
   "cell_type": "code",
   "execution_count": 6,
   "metadata": {},
   "outputs": [
    {
     "data": {
      "image/png": "[encoded data removed]",
      "text/plain": [
       "<Figuresize600x500with1Axes>"
      ]
     },
     "metadata": {},
     "output_type": "display_data"
    }
   ],
   "source": [
    "#(6)ROCCurves&AUC\n",
    "\n",
    "fpr_base,tpr_base,_=roc_curve(y_test,probs_baseline)\n",
    "auc_base=auc(fpr_base,tpr_base)\n",
    "\n",
    "fpr_bert,tpr_bert,_=roc_curve(all_labels,all_probs)\n",
    "auc_bert=auc(fpr_bert,tpr_bert)\n",
    "\n",
    "plt.figure(figsize=(6,5))\n",
    "plt.plot(fpr_base,tpr_base,label=f\"Baseline(AUC={auc_base:.2f})\",linestyle=\"--\")\n",
    "plt.plot(fpr_bert,tpr_bert,label=f\"BERT(AUC={auc_bert:.2f})\")\n",
    "plt.plot([0,1],[0,1],color=\"gray\",linestyle=\":\")\n",
    "plt.xlabel(\"FalsePositiveRate\")\n",
    "plt.ylabel(\"TruePositiveRate\")\n",
    "plt.title(\"ROCCurve:Baselinevs.BERT\")\n",
    "plt.legend(loc=\"lowerright\")\n",
    "plt.show()\n"
   ]
  },
  {
   "cell_type": "code",
   "execution_count": 7,
   "metadata": {},
   "outputs": [
    {
     "data": {
      "text/html": [
       "<div>\n",
       "<stylescoped>\n",
       ".dataframetbodytrth:only-of-type{\n",
       "vertical-align:middle;\n",
       "}\n",
       "\n",
       ".dataframetbodytrth{\n",
       "vertical-align:top;\n",
       "}\n",
       "\n",
       ".dataframetheadth{\n",
       "text-align:right;\n",
       "}\n",
       "</style>\n",
       "<tableborder=\"1\"class=\"dataframe\">\n",
       "<thead>\n",
       "<trstyle=\"text-align:right;\">\n",
       "<th></th>\n",
       "<th>Model</th>\n",
       "<th>Accuracy</th>\n",
       "<th>F1</th>\n",
       "<th>AUC</th>\n",
       "</tr>\n",
       "</thead>\n",
       "<tbody>\n",
       "<tr>\n",
       "<th>0</th>\n",
       "<td>TF\u2011IDF+LR</td>\n",
       "<td>0.531159</td>\n",
       "<td>0.592812</td>\n",
       "<td>0.544498</td>\n",
       "</tr>\n",
       "<tr>\n",
       "<th>1</th>\n",
       "<td>BERT(fine\u2011tuned)</td>\n",
       "<td>0.577897</td>\n",
       "<td>0.674183</td>\n",
       "<td>0.566729</td>\n",
       "</tr>\n",
       "</tbody>\n",
       "</table>\n",
       "</div>"
      ],
      "text/plain": [
       "ModelAccuracyF1AUC\n",
       "0TF\u2011IDF+LR0.5311590.5928120.544498\n",
       "1BERT(fine\u2011tuned)0.5778970.6741830.566729"
      ]
     },
     "execution_count": 7,
     "metadata": {},
     "output_type": "execute_result"
    }
   ],
   "source": [
    "#(7)Side\u2011by\u2011SideComparisonTable\n",
    "\n",
    "comparison=pd.DataFrame([\n",
    "{\"Model\":\"TF\u2011IDF+LR\",\"Accuracy\":acc_baseline,\"F1\":f1_baseline,\"AUC\":auc_base},\n",
    "{\"Model\":\"BERT(fine\u2011tuned)\",\"Accuracy\":acc_bert,\"F1\":f1_bert,\"AUC\":auc_bert}\n",
    "])\n",
    "\n",
    "comparison\n"
   ]
  },
  {
   "cell_type": "code",
   "execution_count": 8,
   "metadata": {},
   "outputs": [
    {
     "data": {
      "text/markdown": [
       "\n",
       "##\ud83d\udccbFinalSummary\n",
       "\n",
       "**Baseline(TF\u2011IDF+LogisticRegression)**\n",
       "-Accuracy:0.531\n",
       "-F1Score:0.593\n",
       "-AUC:0.544\n",
       "\n",
       "**BERT(fine\u2011tuned)**\n",
       "-Accuracy:0.578\n",
       "-F1Score:0.674\n",
       "-AUC:0.567\n",
       "\n",
       "**KeyObservation:**\n",
       ">BERT\u2019scontextualembeddingsledtoan~0.081absoluteimprovementinF1overtheTF\u2011IDFbaseline,atthecostofroughly10\u201315\u00d7slowerinferenceonCPU.Forproduction,considerDistilBERTorquantizedBERTtobalancespeedvs.accuracy.\n"
      ],
      "text/plain": [
       "<IPython.core.display.Markdownobject>"
      ]
     },
     "metadata": {},
     "output_type": "display_data"
    }
   ],
   "source": [
    "fromIPython.displayimportMarkdown,display\n",
    "\n",
    "display(Markdown(f\"\"\"\n",
    "##FinalSummary\n",
    "\n",
    "**Baseline(TF\u2011IDF+LogisticRegression)**\n",
    "-Accuracy:{acc_baseline:.3f}\n",
    "-F1Score:{f1_baseline:.3f}\n",
    "-AUC:{auc_base:.3f}\n",
    "\n",
    "**BERT(fine\u2011tuned)**\n",
    "-Accuracy:{acc_bert:.3f}\n",
    "-F1Score:{f1_bert:.3f}\n",
    "-AUC:{auc_bert:.3f}\n",
    "\n",
    "**KeyObservation:**\n",
    ">BERT\u2019scontextualembeddingsledtoan~{f1_bert-f1_baseline:.3f}absoluteimprovementinF1overtheTF\u2011IDFbaseline,atthecostofroughly10\u201315\u00d7slowerinferenceonCPU.Forproduction,considerDistilBERTorquantizedBERTtobalancespeedvs.accuracy.\n",
    "\"\"\"))\n"
   ]
  }
 ],
 "metadata": {
  "kernelspec": {
   "display_name": "venv",
   "language": "python",
   "name": "python3"
  },
  "language_info": {
   "codemirror_mode": {
    "name": "ipython",
    "version": 3
   },
   "file_extension": ".py",
   "mimetype": "text/x-python",
   "name": "python",
   "nbconvert_exporter": "python",
   "pygments_lexer": "ipython3",
   "version": "3.12.2"
  }
 },
 "nbformat": 4,
 "nbformat_minor": 2
}